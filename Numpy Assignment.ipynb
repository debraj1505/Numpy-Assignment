{
 "cells": [
  {
   "cell_type": "markdown",
   "id": "64944555-520c-4d05-8c86-28c2172386dc",
   "metadata": {},
   "source": [
    "Data Types & Attributes"
   ]
  },
  {
   "cell_type": "code",
   "execution_count": 61,
   "id": "a0af5ddc-8107-4bd8-b095-c3be681fab74",
   "metadata": {},
   "outputs": [],
   "source": [
    "import numpy as np"
   ]
  },
  {
   "cell_type": "code",
   "execution_count": 62,
   "id": "19615654-55cd-4468-bdf3-d08ee8199a72",
   "metadata": {},
   "outputs": [
    {
     "name": "stdout",
     "output_type": "stream",
     "text": [
      "int32\n"
     ]
    }
   ],
   "source": [
    "# Create a NumPy array arr of integers from 0 to 5 and print its data type.\n",
    "arr = np.arange(6)\n",
    "print(arr.dtype)"
   ]
  },
  {
   "cell_type": "code",
   "execution_count": 63,
   "id": "b4814c28-37f4-48fe-90aa-3636683dca4d",
   "metadata": {},
   "outputs": [
    {
     "name": "stdout",
     "output_type": "stream",
     "text": [
      "False\n"
     ]
    }
   ],
   "source": [
    "# Given a NumPy array arr, check if its data type is float64\n",
    "is_float64 = arr.dtype == np.float64\n",
    "print(is_float64)"
   ]
  },
  {
   "cell_type": "code",
   "execution_count": 64,
   "id": "457f6f2a-b928-4e71-bad0-50291741523e",
   "metadata": {},
   "outputs": [
    {
     "name": "stdout",
     "output_type": "stream",
     "text": [
      "[1.+2.j 3.+4.j 5.+6.j]\n"
     ]
    }
   ],
   "source": [
    "# Create a NumPy array arr with a data type of complex128 containing three complex numbers.\n",
    "arr = np.array([1+2j, 3+4j, 5+6j], dtype=np.complex128)\n",
    "print(arr)"
   ]
  },
  {
   "cell_type": "code",
   "execution_count": 65,
   "id": "6b54233c-043a-4fc1-95d5-46ac110579b8",
   "metadata": {},
   "outputs": [
    {
     "name": "stdout",
     "output_type": "stream",
     "text": [
      "[1. 2. 3.]\n"
     ]
    }
   ],
   "source": [
    "# Convert an existing NumPy array arr of integers to float32 data type.\n",
    "arr = np.array([1, 2, 3])\n",
    "arr_float = arr.astype(np.float32)\n",
    "print(arr_float)"
   ]
  },
  {
   "cell_type": "code",
   "execution_count": 66,
   "id": "000efbfc-5184-4928-8cd1-8f97ad6880d8",
   "metadata": {},
   "outputs": [
    {
     "name": "stdout",
     "output_type": "stream",
     "text": [
      "[1. 2.]\n"
     ]
    }
   ],
   "source": [
    "#Given a NumPy array arr with float64 data type, convert it to float32 to reduce decimal precision\n",
    "arr = np.array([1.0, 2.0], dtype=np.float64)\n",
    "arr_reduced = arr.astype(np.float32)\n",
    "print(arr_reduced)"
   ]
  },
  {
   "cell_type": "code",
   "execution_count": 67,
   "id": "1cc3ec0d-bf5f-4555-af5f-9a6a38eeab88",
   "metadata": {},
   "outputs": [
    {
     "name": "stdout",
     "output_type": "stream",
     "text": [
      "Array:\n",
      "[[10 20 30]\n",
      " [40 50 60]]\n",
      "Shape: (2, 3)\n",
      "Size: 6\n",
      "Data Type: int32\n"
     ]
    }
   ],
   "source": [
    "def array_attributes(arr):\n",
    "  array_shape = arr.shape\n",
    "  \n",
    "  array_size = arr.size\n",
    "  \n",
    "  array_dtype = arr.dtype\n",
    "\n",
    "  return array_shape, array_size, array_dtype\n",
    "\n",
    "# Example Usage:\n",
    "if __name__ == \"__main__\":\n",
    "  # Create a sample NumPy array\n",
    "  my_array = np.array([[10, 20, 30], [40, 50, 60]], dtype=np.int32)\n",
    "\n",
    "  # Call the function to get the attributes\n",
    "  shape, size, dtype = array_attributes(my_array)\n",
    "\n",
    "  # Print the results\n",
    "  print(f\"Array:\\n{my_array}\")\n",
    "  print(f\"Shape: {shape}\")\n",
    "  print(f\"Size: {size}\")\n",
    "  print(f\"Data Type: {dtype}\")\n"
   ]
  },
  {
   "cell_type": "code",
   "execution_count": 68,
   "id": "e40a6b2b-4f25-4b13-ba90-9798dbd52fc6",
   "metadata": {},
   "outputs": [
    {
     "name": "stdout",
     "output_type": "stream",
     "text": [
      "Array: [1 2 3 4 5]\n",
      "Dimensionality: 1\n"
     ]
    }
   ],
   "source": [
    "# Create a function array_dimension that returns the dimensionality of a NumPy array.\n",
    "def array_dimension(a):\n",
    "    return a.ndim\n",
    "\n",
    "if __name__ == \"__main__\":\n",
    "  # 1D array\n",
    "  arr_1d = np.array([1, 2, 3, 4, 5])\n",
    "  print(f\"Array: {arr_1d}\")\n",
    "  print(f\"Dimensionality: {array_dimension(arr_1d)}\")"
   ]
  },
  {
   "cell_type": "code",
   "execution_count": 129,
   "id": "5557dff8-7970-4e95-a581-fc1dd57fbf39",
   "metadata": {},
   "outputs": [
    {
     "name": "stdout",
     "output_type": "stream",
     "text": [
      "Original Array:\n",
      "[[1.1 2.2 3.3]\n",
      " [4.4 5.5 6.6]]\n",
      "\n",
      "Data Type: float32\n",
      "Shape: (2, 3)\n",
      "Number of elements (size): 6\n",
      "\n"
     ]
    }
   ],
   "source": [
    "# Design a function item_size_info that returns the item size and total size in bytes of a NumPy array.\n",
    "import numpy as np\n",
    "def item_size_info(numpy_array):\n",
    "  if not isinstance(numpy_array, np.ndarray):\n",
    "    raise TypeError(\"Input must be a NumPy array.\")\n",
    "  item_size = numpy_array.itemsize\n",
    "  total_size = numpy_array.nbytes\n",
    "  return item_size, total_size\n",
    "    \n",
    "my_data = np.array([[1.1, 2.2, 3.3],\n",
    "                    [4.4, 5.5, 6.6]], dtype=np.float32)\n",
    "\n",
    "print(f\"Original Array:\\n{my_data}\\n\")\n",
    "print(f\"Data Type: {my_data.dtype}\")\n",
    "print(f\"Shape: {my_data.shape}\")\n",
    "print(f\"Number of elements (size): {my_data.size}\\n\")\n"
   ]
  },
  {
   "cell_type": "code",
   "execution_count": 130,
   "id": "b28e580e-9b86-4309-9334-ac4dbd736b06",
   "metadata": {},
   "outputs": [
    {
     "name": "stdout",
     "output_type": "stream",
     "text": [
      "--- 1D Array ---\n",
      "Array: [10 20 30 40]\n",
      "Data type: int32, Item size: 4 bytes\n",
      "Strides: (4,)\n"
     ]
    }
   ],
   "source": [
    "# Create a function array_strides that returns the strides of the given NumPy array\n",
    "def array_strides(a):\n",
    "    if not isinstance(a, np.ndarray):\n",
    "        raise TypeError(\"Input must be a NumPy array.\")\n",
    "    return a.strides\n",
    "\n",
    "arr_1d = np.array([10, 20, 30, 40], dtype=np.int32)\n",
    "strides_1d = array_strides(arr_1d)\n",
    "print(f\"--- 1D Array ---\")\n",
    "print(f\"Array: {arr_1d}\")\n",
    "print(f\"Data type: {arr_1d.dtype}, Item size: {arr_1d.itemsize} bytes\")\n",
    "print(f\"Strides: {strides_1d}\")\n"
   ]
  },
  {
   "cell_type": "code",
   "execution_count": 131,
   "id": "d892c151-6fe0-4e28-a8de-3696565c01aa",
   "metadata": {},
   "outputs": [
    {
     "name": "stdout",
     "output_type": "stream",
     "text": [
      "--- 1D Array (int32, itemsize=4 bytes) ---\n",
      "Array: [10 20 30 40]\n",
      "Shape: (4,)\n",
      "Strides: (4,)\n"
     ]
    }
   ],
   "source": [
    "# Design a function shape_stride_relationship that returns the shape and strides of the given array.\n",
    "\n",
    "\n",
    "def shape_stride_relationship(a):\n",
    "  \n",
    "  array_shape = a.shape\n",
    "  \n",
    "  array_strides = a.strides\n",
    "\n",
    "  return array_shape, array_strides\n",
    "\n",
    "\n",
    "arr_1d = np.array([10, 20, 30, 40], dtype=np.int32) # Each int32 is 4 bytes\n",
    "print(f\"--- 1D Array ({arr_1d.dtype}, itemsize={arr_1d.itemsize} bytes) ---\")\n",
    "print(f\"Array: {arr_1d}\")\n",
    "shape_1d, strides_1d = shape_stride_relationship(arr_1d)\n",
    "print(f\"Shape: {shape_1d}\")\n",
    "print(f\"Strides: {strides_1d}\")\n"
   ]
  },
  {
   "cell_type": "markdown",
   "id": "4f15b418-2f43-420a-800e-508a312f12fa",
   "metadata": {},
   "source": [
    "Array Creations"
   ]
  },
  {
   "cell_type": "code",
   "execution_count": 133,
   "id": "8ecbda42-48e1-45a9-b73e-0289e3de4045",
   "metadata": {},
   "outputs": [
    {
     "name": "stdout",
     "output_type": "stream",
     "text": [
      "1D Array of Zeros:\n",
      "[0. 0. 0. 0. 0.]\n",
      "\n",
      "2D Array of Zeros (3x4):\n",
      "[[0. 0. 0. 0.]\n",
      " [0. 0. 0. 0.]\n",
      " [0. 0. 0. 0.]]\n",
      "\n"
     ]
    }
   ],
   "source": [
    "# Create a function create_zeros_array(n) to return a NumPy array of zeros with n elements.\n",
    "def create_zeros_array(n):\n",
    "    return np.zeros(n)\n",
    "array_1d = create_zeros_array(5)\n",
    "print(f\"1D Array of Zeros:\\n{array_1d}\\n\")\n",
    "array_2d = create_zeros_array((3, 4))\n",
    "print(f\"2D Array of Zeros (3x4):\\n{array_2d}\\n\")    "
   ]
  },
  {
   "cell_type": "code",
   "execution_count": 135,
   "id": "07566838-3046-4e65-8343-c03097848b46",
   "metadata": {},
   "outputs": [
    {
     "name": "stdout",
     "output_type": "stream",
     "text": [
      "2x3 Matrix of Ones:\n",
      "[[1. 1. 1.]\n",
      " [1. 1. 1.]]\n",
      "\n",
      "4x1 Matrix (Column Vector) of Ones:\n",
      "[[1.]\n",
      " [1.]\n",
      " [1.]\n",
      " [1.]]\n",
      "\n"
     ]
    }
   ],
   "source": [
    "# Write a function create_ones_matrix(rows, cols) to create a 2D array filled with ones.\n",
    "def create_ones_matrix(rows, cols):\n",
    "    return np.ones((rows, cols))\n",
    "# Example 1: Create a 2x3 matrix of ones\n",
    "matrix_2x3 = create_ones_matrix(2, 3)\n",
    "print(f\"2x3 Matrix of Ones:\\n{matrix_2x3}\\n\")\n",
    "\n",
    "# Example 2: Create a 4x1 matrix (column vector) of ones\n",
    "matrix_4x1 = create_ones_matrix(4, 1)\n",
    "print(f\"4x1 Matrix (Column Vector) of Ones:\\n{matrix_4x1}\\n\")    "
   ]
  },
  {
   "cell_type": "code",
   "execution_count": 138,
   "id": "0ec01f79-5af4-46b9-b653-89f9634c2210",
   "metadata": {},
   "outputs": [
    {
     "name": "stdout",
     "output_type": "stream",
     "text": [
      "Example 1 (0 to 10, step 1): [0 1 2 3 4 5 6 7 8 9]\n",
      "\n",
      "Example 2 (5 to 20, step 3): [ 5  8 11 14 17]\n",
      "\n"
     ]
    }
   ],
   "source": [
    "# Write a function generate_range_array(start, stop, step) to create a ranged NumPy array.\n",
    "def generate_range_array(start, stop, step):\n",
    "    return np.arange(start, stop, step)\n",
    "\n",
    "# Example 1: Integers from 0 up to (but not including) 10, with a step of 1\n",
    "arr1 = generate_range_array(0, 10, 1)\n",
    "print(f\"Example 1 (0 to 10, step 1): {arr1}\\n\")\n",
    "\n",
    "# Example 2: Integers from 5 up to (but not including) 20, with a step of 3\n",
    "arr2 = generate_range_array(5, 20, 3)\n",
    "print(f\"Example 2 (5 to 20, step 3): {arr2}\\n\")"
   ]
  },
  {
   "cell_type": "code",
   "execution_count": 139,
   "id": "4fbcf185-2012-4aca-b46e-e39fd53f9fe3",
   "metadata": {},
   "outputs": [
    {
     "name": "stdout",
     "output_type": "stream",
     "text": [
      "Example 1 (0 to 10, 5 samples): [ 0.   2.5  5.   7.5 10. ]\n",
      "\n",
      "Example 2 (-5 to 5, 7 samples): [-5.         -3.33333333 -1.66666667  0.          1.66666667  3.33333333\n",
      "  5.        ]\n",
      "\n"
     ]
    }
   ],
   "source": [
    "# Design a function generate_linear_space(start, stop, num) for equally spaced values.\n",
    "def generate_linear_space(start, stop, num):\n",
    "    return np.linspace(start, stop, num)\n",
    "\n",
    "# Example 1: Generate 5 evenly spaced numbers between 0 and 10 (inclusive)\n",
    "arr1 = generate_linear_space(0, 10, 5)\n",
    "print(f\"Example 1 (0 to 10, 5 samples): {arr1}\\n\")\n",
    "\n",
    "# Example 2: Generate 7 evenly spaced numbers between -5 and 5 (inclusive)\n",
    "arr2 = generate_linear_space(-5, 5, 7)\n",
    "print(f\"Example 2 (-5 to 5, 7 samples): {arr2}\\n\")\n"
   ]
  },
  {
   "cell_type": "code",
   "execution_count": 137,
   "id": "47cf0fdd-ffce-482c-8ec6-e89a0575db62",
   "metadata": {},
   "outputs": [
    {
     "name": "stdout",
     "output_type": "stream",
     "text": [
      "3x3 Identity Matrix:\n",
      "[[1. 0. 0.]\n",
      " [0. 1. 0.]\n",
      " [0. 0. 1.]]\n",
      "\n",
      "5x5 Identity Matrix:\n",
      "[[1. 0. 0. 0. 0.]\n",
      " [0. 1. 0. 0. 0.]\n",
      " [0. 0. 1. 0. 0.]\n",
      " [0. 0. 0. 1. 0.]\n",
      " [0. 0. 0. 0. 1.]]\n",
      "\n"
     ]
    }
   ],
   "source": [
    "# Create a function create_identity_matrix(n) using numpy.eye\n",
    "def create_identity_matrix(n):\n",
    "    return np.eye(n)\n",
    "# Example 1: Create a 3x3 identity matrix\n",
    "identity_3x3 = create_identity_matrix(3)\n",
    "print(f\"3x3 Identity Matrix:\\n{identity_3x3}\\n\")\n",
    "\n",
    "# Example 2: Create a 5x5 identity matrix\n",
    "identity_5x5 = create_identity_matrix(5)\n",
    "print(f\"5x5 Identity Matrix:\\n{identity_5x5}\\n\")\n"
   ]
  },
  {
   "cell_type": "code",
   "execution_count": 140,
   "id": "2e747644-a51d-485c-8fad-2c48bc0e5573",
   "metadata": {},
   "outputs": [
    {
     "name": "stdout",
     "output_type": "stream",
     "text": [
      "Original Python List (1D): [1, 2, 3, 4, 5]\n",
      "Converted NumPy Array (1D):\n",
      "[1 2 3 4 5]\n",
      "Type of converted array: <class 'numpy.ndarray'>\n",
      "\n"
     ]
    }
   ],
   "source": [
    "# Write a function that converts a Python list into a NumPy array\n",
    "def list_to_array(lst):\n",
    "    return np.array(lst)\n",
    "\n",
    "# Example 1: Convert a 1D Python list to a NumPy array\n",
    "my_list_1d = [1, 2, 3, 4, 5]\n",
    "numpy_array_1d = list_to_array(my_list_1d)\n",
    "print(f\"Original Python List (1D): {my_list_1d}\")\n",
    "print(f\"Converted NumPy Array (1D):\\n{numpy_array_1d}\")\n",
    "print(f\"Type of converted array: {type(numpy_array_1d)}\\n\")\n"
   ]
  },
  {
   "cell_type": "code",
   "execution_count": 78,
   "id": "ef3aaa94-55a0-4121-a3e7-9c17aaecb238",
   "metadata": {},
   "outputs": [
    {
     "name": "stdout",
     "output_type": "stream",
     "text": [
      "[1 2 3]\n"
     ]
    }
   ],
   "source": [
    "# Create a NumPy array and use numpy.view() to create a new view with the same data.\n",
    "arr = np.array([1, 2, 3])\n",
    "view = arr.view()\n",
    "print(view)"
   ]
  },
  {
   "cell_type": "markdown",
   "id": "90fb56c8-d4b8-4a33-acf6-093d798a781f",
   "metadata": {},
   "source": [
    "Concatenation and Stacking"
   ]
  },
  {
   "cell_type": "code",
   "execution_count": 141,
   "id": "100def24-be95-48f3-b8f9-33df903a0153",
   "metadata": {},
   "outputs": [
    {
     "name": "stdout",
     "output_type": "stream",
     "text": [
      "--- Concatenating 1D Arrays ---\n",
      "Array 1: [1 2 3]\n",
      "Array 2: [4 5 6]\n",
      "Concatenated (default axis=0): [1 2 3 4 5 6]\n",
      "\n"
     ]
    }
   ],
   "source": [
    "# Write a function to concatenate two NumPy arrays along a specified axis.\n",
    "def concatenate_arrays(a, b, axis=0):\n",
    "    return np.concatenate((a, b), axis=axis)\n",
    "\n",
    "arr1_1d = np.array([1, 2, 3])\n",
    "arr2_1d = np.array([4, 5, 6])\n",
    "print(f\"--- Concatenating 1D Arrays ---\")\n",
    "print(f\"Array 1: {arr1_1d}\")\n",
    "print(f\"Array 2: {arr2_1d}\")\n",
    "concatenated_1d = concatenate_arrays(arr1_1d, arr2_1d)\n",
    "print(f\"Concatenated (default axis=0): {concatenated_1d}\\n\")"
   ]
  },
  {
   "cell_type": "code",
   "execution_count": 80,
   "id": "4cac63d4-b4be-4cc1-9ca5-2c7fdce568a9",
   "metadata": {},
   "outputs": [
    {
     "name": "stdout",
     "output_type": "stream",
     "text": [
      "[[1 3]\n",
      " [2 4]]\n"
     ]
    }
   ],
   "source": [
    "# Concatenate two arrays with different shapes horizontally using numpy.concatenate.\n",
    "arr1 = np.array([[1], [2]])\n",
    "arr2 = np.array([[3, 4]])\n",
    "horizontal_concat = np.concatenate((arr1, arr2.T), axis=1)\n",
    "print(horizontal_concat)"
   ]
  },
  {
   "cell_type": "code",
   "execution_count": 142,
   "id": "a2c58e7c-7549-4fed-8c43-0440f6b67bff",
   "metadata": {},
   "outputs": [
    {
     "name": "stdout",
     "output_type": "stream",
     "text": [
      "--- Vertically Stacking 1D Arrays ---\n",
      "Array 1: [1 2 3]\n",
      "Array 2: [4 5 6]\n",
      "Vertically Stacked Array:\n",
      "[[1 2 3]\n",
      " [4 5 6]]\n",
      "\n"
     ]
    }
   ],
   "source": [
    "# Vertically stack multiple arrays from a list using numpy.vstack\n",
    "def vertical_stack(arrays):\n",
    "    return np.vstack(arrays)\n",
    "\n",
    "# Example 1: Vertically stack 1D arrays\n",
    "arr1_1d = np.array([1, 2, 3])\n",
    "arr2_1d = np.array([4, 5, 6])\n",
    "print(f\"--- Vertically Stacking 1D Arrays ---\")\n",
    "print(f\"Array 1: {arr1_1d}\")\n",
    "print(f\"Array 2: {arr2_1d}\")\n",
    "stacked_1d = vertical_stack((arr1_1d, arr2_1d))\n",
    "print(f\"Vertically Stacked Array:\\n{stacked_1d}\\n\")"
   ]
  },
  {
   "cell_type": "markdown",
   "id": "ece6bc4d-b900-4a71-a307-9d16eba441b9",
   "metadata": {},
   "source": [
    " Array Generation\n"
   ]
  },
  {
   "cell_type": "code",
   "execution_count": 144,
   "id": "50d68f2b-74df-424d-ad4d-d86d1c440e1c",
   "metadata": {},
   "outputs": [
    {
     "name": "stdout",
     "output_type": "stream",
     "text": [
      "[ 1  2  3  4  5  6  7  8  9 10]\n"
     ]
    }
   ],
   "source": [
    "# Write a function to generate an array of integers within a specified range (inclusive) with a step.\n",
    "def generate_integer_array(start, stop, step):\n",
    "    return np.arange(start, stop+1, step)\n",
    "\n",
    "# Example 1: Integers from 1 to 10 (inclusive), with a step of 1\n",
    "arr1 = generate_integer_array(1, 10, 1)\n",
    "print(arr1)\n",
    "\n"
   ]
  },
  {
   "cell_type": "code",
   "execution_count": 83,
   "id": "8ad94fce-19be-44ca-907c-3040b7a6f09c",
   "metadata": {},
   "outputs": [
    {
     "name": "stdout",
     "output_type": "stream",
     "text": [
      "[0.         0.11111111 0.22222222 0.33333333 0.44444444 0.55555556\n",
      " 0.66666667 0.77777778 0.88888889 1.        ]\n"
     ]
    }
   ],
   "source": [
    "# Generate 10 equally spaced values between 0 and 1 using NumPy.\n",
    "lin_vals = np.linspace(0, 1, 10)\n",
    "print(lin_vals)"
   ]
  },
  {
   "cell_type": "code",
   "execution_count": 84,
   "id": "3a9d9566-237c-47d2-9a2f-e82f1d1cc42d",
   "metadata": {},
   "outputs": [
    {
     "name": "stdout",
     "output_type": "stream",
     "text": [
      "[   1.            5.62341325   31.6227766   177.827941   1000.        ]\n"
     ]
    }
   ],
   "source": [
    "# Create 5 logarithmically spaced values between 1 and 1000.\n",
    "log_vals = np.logspace(0, 3, 5)\n",
    "print(log_vals)"
   ]
  },
  {
   "cell_type": "markdown",
   "id": "22d34643-db51-43c7-97cd-7bfac2428c49",
   "metadata": {},
   "source": [
    "Pandas + NumPy"
   ]
  },
  {
   "cell_type": "code",
   "execution_count": 85,
   "id": "c65d4249-2c47-4abb-8fec-72b3e76c909b",
   "metadata": {},
   "outputs": [],
   "source": [
    "import pandas as pd"
   ]
  },
  {
   "cell_type": "code",
   "execution_count": 86,
   "id": "a26b34ae-1875-474e-b1ef-36f1104de1c6",
   "metadata": {},
   "outputs": [
    {
     "name": "stdout",
     "output_type": "stream",
     "text": [
      "    A   B   C\n",
      "0  67  61  57\n",
      "1  78  61  77\n",
      "2  51  83  81\n",
      "3  50  50  21\n",
      "4  80   6  71\n"
     ]
    }
   ],
   "source": [
    "# Create a Pandas DataFrame from a NumPy array with 5 rows and 3 columns of random integers (1-100).\n",
    "arr = np.random.randint(1, 101, (5, 3))\n",
    "df = pd.DataFrame(arr, columns=[\"A\", \"B\", \"C\"])\n",
    "print(df)"
   ]
  },
  {
   "cell_type": "code",
   "execution_count": 147,
   "id": "618ca1ce-629f-4696-9f8b-541010b16e3f",
   "metadata": {},
   "outputs": [
    {
     "name": "stdout",
     "output_type": "stream",
     "text": [
      "Original DataFrame:\n",
      "  Product  Sales  Profit\n",
      "0       A    100      20\n",
      "1       B    -20       5\n",
      "2       C    150     -10\n",
      "3       D     -5      12\n",
      "4       E     80      -3\n",
      "\n",
      "==============================\n",
      "\n",
      "DataFrame after replacing negative 'Sales' with zero:\n",
      "  Product  Sales  Profit\n",
      "0       A    100      20\n",
      "1       B      0       5\n",
      "2       C    150     -10\n",
      "3       D      0      12\n",
      "4       E     80      -3\n",
      "\n",
      "==============================\n",
      "\n",
      "DataFrame after replacing negative 'Profit' with zero:\n",
      "  Product  Sales  Profit\n",
      "0       A    100      20\n",
      "1       B    -20       5\n",
      "2       C    150       0\n",
      "3       D     -5      12\n",
      "4       E     80       0\n",
      "\n",
      "==============================\n",
      "\n"
     ]
    }
   ],
   "source": [
    "# Write a function to replace all negative values in a specific column with zeros using NumPy.\n",
    "def replace_negatives_with_zero(df, column):\n",
    "    df[column] = np.where(df[column] < 0, 0, df[column])\n",
    "    return df\n",
    "# 1. Create a sample Pandas DataFrame\n",
    "data = {\n",
    "    'Product': ['A', 'B', 'C', 'D', 'E'],\n",
    "    'Sales': [100, -20, 150, -5, 80],\n",
    "    'Profit': [20, 5, -10, 12, -3]\n",
    "}\n",
    "df = pd.DataFrame(data)\n",
    "\n",
    "print(\"Original DataFrame:\")\n",
    "print(df)\n",
    "print(\"\\n\" + \"=\"*30 + \"\\n\")\n",
    "print(\"DataFrame after replacing negative 'Sales' with zero:\")\n",
    "df_sales_fixed = replace_negatives_with_zero(df.copy(), 'Sales') # Use .copy() to avoid modifying original df\n",
    "print(df_sales_fixed)\n",
    "print(\"\\n\" + \"=\"*30 + \"\\n\")\n",
    "print(\"DataFrame after replacing negative 'Profit' with zero:\")\n",
    "df_profit_fixed = replace_negatives_with_zero(df.copy(), 'Profit') # Use .copy() to avoid modifying original df\n",
    "print(df_profit_fixed)\n",
    "print(\"\\n\" + \"=\"*30 + \"\\n\")"
   ]
  },
  {
   "cell_type": "markdown",
   "id": "08b981b3-5d20-4e0a-9ab5-bad2c02f73ec",
   "metadata": {},
   "source": [
    "Indexing and Slicing"
   ]
  },
  {
   "cell_type": "code",
   "execution_count": 88,
   "id": "7a909685-1ce3-43b8-9cf4-7a5f8de05dc9",
   "metadata": {},
   "outputs": [
    {
     "name": "stdout",
     "output_type": "stream",
     "text": [
      "30\n"
     ]
    }
   ],
   "source": [
    "# Access the 3rd element from the given NumPy array\n",
    "arr = np.array([10, 20, 30, 40])\n",
    "element = arr[2]\n",
    "print(element)"
   ]
  },
  {
   "cell_type": "code",
   "execution_count": 89,
   "id": "8e542e58-8968-41ba-a35b-eed6a392615d",
   "metadata": {},
   "outputs": [
    {
     "name": "stdout",
     "output_type": "stream",
     "text": [
      "6\n"
     ]
    }
   ],
   "source": [
    "# Retrieve the element at index (1, 2) from a 2D array.\n",
    "arr2d = np.array([[1,2,3],[4,5,6]])\n",
    "element = arr2d[1,2]\n",
    "print(element)"
   ]
  },
  {
   "cell_type": "code",
   "execution_count": 90,
   "id": "eae0f489-0b2f-4fce-930d-2e1d2ebf9a1d",
   "metadata": {},
   "outputs": [
    {
     "name": "stdout",
     "output_type": "stream",
     "text": [
      "6\n"
     ]
    }
   ],
   "source": [
    "#Extract elements greater than 5 using boolean indexing. \n",
    "arr = np.array([1, 6, 8, 3])\n",
    "elements = arr[arr > 5]\n",
    "print(element)"
   ]
  },
  {
   "cell_type": "code",
   "execution_count": 91,
   "id": "f26a8d4f-9914-4666-bbad-9241cee936ce",
   "metadata": {},
   "outputs": [
    {
     "name": "stdout",
     "output_type": "stream",
     "text": [
      "[2 3 4 5]\n"
     ]
    }
   ],
   "source": [
    "# Slice elements from index 2 to 5 (inclusive) from a NumPy array\n",
    "arr = np.arange(10)\n",
    "slice_ = arr[2:6]\n",
    "print(slice_)"
   ]
  },
  {
   "cell_type": "code",
   "execution_count": 92,
   "id": "535f3180-d3be-497e-b02c-58ac5ac512b4",
   "metadata": {},
   "outputs": [
    {
     "name": "stdout",
     "output_type": "stream",
     "text": [
      "[2 5]\n"
     ]
    }
   ],
   "source": [
    "# Slice the sub-array [[2, 3], [5, 6]] from a 2D array.\n",
    "arr2d = np.array([[0,1,2],[3,4,5],[6,7,8]])\n",
    "sub_array = arr2d[[0,1],[2,2]]\n",
    "print(sub_array)"
   ]
  },
  {
   "cell_type": "markdown",
   "id": "320535e6-8a78-47b1-af85-958c1f9b331f",
   "metadata": {},
   "source": [
    "Advanced Indexing"
   ]
  },
  {
   "cell_type": "code",
   "execution_count": 93,
   "id": "90ccc8f5-1fd5-4fd0-9665-c47dab69349c",
   "metadata": {},
   "outputs": [
    {
     "name": "stdout",
     "output_type": "stream",
     "text": [
      "[2, 3]\n"
     ]
    }
   ],
   "source": [
    "# Extract elements based on indices from a 2D array.\n",
    "arr2d = np.array([[1,2],[3,4]])\n",
    "indices = [(0,1),(1,0)]\n",
    "elements = [arr2d[i,j] for i,j in indices]\n",
    "print(elements)"
   ]
  },
  {
   "cell_type": "code",
   "execution_count": 94,
   "id": "0c2fc689-cbfc-44bd-bd9f-3a773941f28b",
   "metadata": {},
   "outputs": [
    {
     "name": "stdout",
     "output_type": "stream",
     "text": [
      "[7 9]\n"
     ]
    }
   ],
   "source": [
    "# Filter elements greater than a threshold using boolean indexing.\n",
    "arr = np.array([4,7,1,9])\n",
    "filtered = arr[arr > 5]\n",
    "print(filtered)"
   ]
  },
  {
   "cell_type": "code",
   "execution_count": 95,
   "id": "373743ae-204e-4d28-af3d-2c88c32bdc2c",
   "metadata": {},
   "outputs": [
    {
     "name": "stdout",
     "output_type": "stream",
     "text": [
      "[5 5]\n"
     ]
    }
   ],
   "source": [
    "# Extract specific elements from a 3D array using separate index arrays\n",
    "arr3d = np.random.randint(10, size=(2,3,4))\n",
    "ix = [0,1]\n",
    "jx = [1,2]\n",
    "kx = [2,3]\n",
    "elements = arr3d[ix, jx, kx]\n",
    "print(elements)"
   ]
  },
  {
   "cell_type": "code",
   "execution_count": 96,
   "id": "e0fe11c5-6a56-460d-9b03-40eb74a3878d",
   "metadata": {},
   "outputs": [
    {
     "name": "stdout",
     "output_type": "stream",
     "text": [
      "[4 6]\n"
     ]
    }
   ],
   "source": [
    "# Return elements satisfying two boolean conditions.\n",
    "arr = np.array([2, 4, 6, 8])\n",
    "elements = arr[(arr > 3) & (arr < 8)]\n",
    "print(elements)"
   ]
  },
  {
   "cell_type": "code",
   "execution_count": 97,
   "id": "0d0fa1dc-4e1c-4ccb-951c-5a0369bcb0de",
   "metadata": {},
   "outputs": [
    {
     "name": "stdout",
     "output_type": "stream",
     "text": [
      "[20 30]\n"
     ]
    }
   ],
   "source": [
    "# Extract elements from a 2D array using separate row and column index arrays.\n",
    "arr2d = np.array([[10,20],[30,40]])\n",
    "rows = np.array([0,1])\n",
    "cols = np.array([1,0])\n",
    "elements = arr2d[rows, cols]\n",
    "print(elements)"
   ]
  },
  {
   "cell_type": "markdown",
   "id": "97ebe3fa-7ba4-42e8-ab22-57901f01782e",
   "metadata": {},
   "source": [
    "Broadcasting"
   ]
  },
  {
   "cell_type": "code",
   "execution_count": 98,
   "id": "8f81e539-54d2-4ab7-95f6-af316863ecd2",
   "metadata": {},
   "outputs": [
    {
     "name": "stdout",
     "output_type": "stream",
     "text": [
      "[6 7 8]\n"
     ]
    }
   ],
   "source": [
    "# Add scalar 5 to every element of an array using broadcasting\n",
    "arr = np.array([1,2,3])\n",
    "arr += 5\n",
    "print(arr)"
   ]
  },
  {
   "cell_type": "code",
   "execution_count": 99,
   "id": "360c7a52-7eff-4cc3-a3cd-413bdbd50bfe",
   "metadata": {},
   "outputs": [
    {
     "name": "stdout",
     "output_type": "stream",
     "text": [
      "[[1. 1. 1. 1.]\n",
      " [2. 2. 2. 2.]\n",
      " [3. 3. 3. 3.]]\n"
     ]
    }
   ],
   "source": [
    "# Multiply each row of a (3, 4) array by corresponding elements of a (1, 3) array.\n",
    "arr = np.ones((3,4))\n",
    "mult = np.array([[1],[2],[3]])\n",
    "result = arr * mult\n",
    "print(result)"
   ]
  },
  {
   "cell_type": "code",
   "execution_count": 100,
   "id": "48c67d6c-c9c9-4440-b3d2-12816380f9bd",
   "metadata": {},
   "outputs": [
    {
     "name": "stdout",
     "output_type": "stream",
     "text": [
      "[[2. 2. 2.]\n",
      " [2. 2. 2.]\n",
      " [2. 2. 2.]\n",
      " [2. 2. 2.]]\n"
     ]
    }
   ],
   "source": [
    "# Add a (1, 4) array to every row of a (4, 3) array using broadcasting.\n",
    "a = np.ones((4,3))\n",
    "b = np.ones((1,3))\n",
    "result = a + b\n",
    "print(result)"
   ]
  },
  {
   "cell_type": "code",
   "execution_count": 101,
   "id": "2a07e9e6-abbf-46c2-b163-88062d11aa9c",
   "metadata": {},
   "outputs": [
    {
     "name": "stdout",
     "output_type": "stream",
     "text": [
      "[[2. 2. 2.]\n",
      " [2. 2. 2.]\n",
      " [2. 2. 2.]]\n"
     ]
    }
   ],
   "source": [
    "# Add two arrays of shapes (3, 1) and (1, 3) using broadcasting\n",
    "a = np.ones((3,1))\n",
    "b = np.ones((1,3))\n",
    "result = a + b\n",
    "print(result)"
   ]
  },
  {
   "cell_type": "code",
   "execution_count": 102,
   "id": "7826fad0-e065-4bcd-90d3-38f6c727dd15",
   "metadata": {},
   "outputs": [],
   "source": [
    "# Handle shape incompatibility during multiplication between (2, 3) and (2, 2) arrays.\n",
    "try:\n",
    "    a = np.ones((2,3))\n",
    "    b = np.ones((2,2))\n",
    "    result = a * b\n",
    "except ValueError as e:\n",
    "    result = str(e)\n"
   ]
  },
  {
   "cell_type": "markdown",
   "id": "31297738-1aaa-4f51-8239-89c4ec4405a7",
   "metadata": {},
   "source": [
    " Aggregations and Statistics"
   ]
  },
  {
   "cell_type": "code",
   "execution_count": 103,
   "id": "b2ef0697-f15a-4aba-9b93-cb7f86dac64c",
   "metadata": {},
   "outputs": [
    {
     "name": "stdout",
     "output_type": "stream",
     "text": [
      "[2. 3.]\n"
     ]
    }
   ],
   "source": [
    "# Calculate column-wise mean of a 2D array\n",
    "arr = np.array([[1,2],[3,4]])\n",
    "col_mean = arr.mean(axis=0)\n",
    "print(col_mean)"
   ]
  },
  {
   "cell_type": "code",
   "execution_count": 104,
   "id": "b0667759-471e-4e15-8b4c-f4f5f0f93392",
   "metadata": {},
   "outputs": [
    {
     "name": "stdout",
     "output_type": "stream",
     "text": [
      "[2 4]\n"
     ]
    }
   ],
   "source": [
    "# Find maximum value in each row.\n",
    "arr = np.array([[1,2],[3,4]])\n",
    "row_max = arr.max(axis=1)\n",
    "print(row_max)"
   ]
  },
  {
   "cell_type": "code",
   "execution_count": 105,
   "id": "e3274149-71cf-4623-b2d5-9112cd3b1b26",
   "metadata": {},
   "outputs": [
    {
     "name": "stdout",
     "output_type": "stream",
     "text": [
      "[1 1]\n"
     ]
    }
   ],
   "source": [
    "# Find indices of maximum values in each column.\n",
    "arr = np.array([[1,2],[3,4]])\n",
    "max_idx = arr.argmax(axis=0)\n",
    "print(max_idx)"
   ]
  },
  {
   "cell_type": "code",
   "execution_count": 151,
   "id": "681c857a-4649-481a-828a-db0b01d41b3e",
   "metadata": {},
   "outputs": [
    {
     "name": "stdout",
     "output_type": "stream",
     "text": [
      "[ 6.  9. 12. 15. 18. 21. 24. 27.]\n"
     ]
    }
   ],
   "source": [
    "# Apply a custom function to compute moving sum along rows.\n",
    "def moving_sum(arr, k):\n",
    "    return np.convolve(arr, np.ones(k), 'valid')\n",
    "\n",
    "data1 = np.array([1, 2, 3, 4, 5, 6, 7, 8, 9, 10])\n",
    "k1 = 3\n",
    "result1 = moving_sum(data1, k1)\n",
    "print(result1)"
   ]
  },
  {
   "cell_type": "code",
   "execution_count": 107,
   "id": "6dfe5d49-e482-4659-8bd5-1a8332fdc2b1",
   "metadata": {},
   "outputs": [
    {
     "name": "stdout",
     "output_type": "stream",
     "text": [
      "[ True  True]\n"
     ]
    }
   ],
   "source": [
    "# Check if all elements in each column are even.\n",
    "arr = np.array([[2,4],[6,8]])\n",
    "all_even = (arr % 2 == 0).all(axis=0)\n",
    "print(all_even)"
   ]
  },
  {
   "cell_type": "markdown",
   "id": "f13bd6f5-bda2-435c-afb0-b83592d7af31",
   "metadata": {},
   "source": [
    "Reshaping and Flattening"
   ]
  },
  {
   "cell_type": "code",
   "execution_count": 108,
   "id": "61b5e749-ff6e-4bc6-9338-0de40afce973",
   "metadata": {},
   "outputs": [
    {
     "name": "stdout",
     "output_type": "stream",
     "text": [
      "[[0 1 2]\n",
      " [3 4 5]]\n"
     ]
    }
   ],
   "source": [
    "# Reshape a given array into dimensions m x n.\n",
    "arr = np.arange(6)\n",
    "reshaped = arr.reshape(2,3)\n",
    "print(reshaped)"
   ]
  },
  {
   "cell_type": "code",
   "execution_count": 109,
   "id": "7390281a-b203-44af-aeb4-7c0377f31af9",
   "metadata": {},
   "outputs": [
    {
     "name": "stdout",
     "output_type": "stream",
     "text": [
      "[0 1 2 3 4 5]\n"
     ]
    }
   ],
   "source": [
    "# Return a flattened version of a given matrix\n",
    "arr = np.arange(6)\n",
    "flattened = arr.flatten()\n",
    "print(flattened)"
   ]
  },
  {
   "cell_type": "code",
   "execution_count": 110,
   "id": "cd879bad-b6aa-47b5-b3ec-319b6edf58b8",
   "metadata": {},
   "outputs": [
    {
     "name": "stdout",
     "output_type": "stream",
     "text": [
      "[[1 2]\n",
      " [3 4]]\n"
     ]
    }
   ],
   "source": [
    "# Concatenate two arrays along a specified axis.\n",
    "arr1 = np.array([[1,2]])\n",
    "arr2 = np.array([[3,4]])\n",
    "concat = np.concatenate((arr1, arr2), axis=0)\n",
    "print(concat)"
   ]
  },
  {
   "cell_type": "code",
   "execution_count": 111,
   "id": "69be4f0a-81ce-48bf-84bd-936d1d1b686d",
   "metadata": {},
   "outputs": [
    {
     "name": "stdout",
     "output_type": "stream",
     "text": [
      "[array([1, 2]), array([3, 4]), array([5, 6])]\n"
     ]
    }
   ],
   "source": [
    "# Split an array into sub-arrays along a specified axis.\n",
    "arr = np.array([1,2,3,4,5,6])\n",
    "splits = np.split(arr, 3)\n",
    "print(splits)"
   ]
  },
  {
   "cell_type": "code",
   "execution_count": 112,
   "id": "9ce9d8a0-4b83-40ed-92d6-4670ffe6a0df",
   "metadata": {},
   "outputs": [
    {
     "name": "stdout",
     "output_type": "stream",
     "text": [
      "[1 9 2 3]\n",
      "[1 2]\n"
     ]
    }
   ],
   "source": [
    "# Insert and delete elements at specified indices from an array.\n",
    "arr = np.array([1,2,3])\n",
    "arr_ins = np.insert(arr, 1, 9)\n",
    "arr_del = np.delete(arr, 2)\n",
    "print(arr_ins)\n",
    "print(arr_del)"
   ]
  },
  {
   "cell_type": "markdown",
   "id": "105a7b70-320d-46fc-9ebf-08b4e2ea5462",
   "metadata": {},
   "source": [
    "Element Operations"
   ]
  },
  {
   "cell_type": "code",
   "execution_count": 113,
   "id": "71e4fa8c-480e-4d9b-b3da-3b8bbb04a395",
   "metadata": {},
   "outputs": [
    {
     "name": "stdout",
     "output_type": "stream",
     "text": [
      "[4 6]\n",
      "[-2 -2]\n",
      "[3 8]\n",
      "[0.33333333 0.5       ]\n",
      "[ 1 16]\n"
     ]
    }
   ],
   "source": [
    "# Perform element-wise addition between two arrays.\n",
    "#  Perform element-wise subtraction: subtract arr2 from arr1.\n",
    "#  Perform element-wise multiplication.\n",
    "# Divide elements of arr1 by arr2 element-wise.\n",
    "# Perform element-wise exponentiation: arr1 ** arr2.\n",
    "arr1 = np.array([1,2])\n",
    "arr2 = np.array([3,4])\n",
    "add = arr1 + arr2\n",
    "sub = arr1 - arr2\n",
    "mul = arr1 * arr2\n",
    "div = arr1 / arr2\n",
    "exp = arr1 ** arr2\n",
    "print(add)\n",
    "print(sub)\n",
    "print(mul)\n",
    "print(div)\n",
    "print(exp)"
   ]
  },
  {
   "cell_type": "markdown",
   "id": "ad826862-22cd-46ab-8f23-890bc591dc89",
   "metadata": {},
   "source": [
    "String Operations"
   ]
  },
  {
   "cell_type": "code",
   "execution_count": 114,
   "id": "e56a806a-6faf-4bcd-8e5b-76599eff07a6",
   "metadata": {},
   "outputs": [
    {
     "name": "stdout",
     "output_type": "stream",
     "text": [
      "[1 3]\n"
     ]
    }
   ],
   "source": [
    "# count occurrences of a substring in a string array.\n",
    "arr = np.array(['apple', 'banana'])\n",
    "count = np.char.count(arr, 'a')\n",
    "print(count)"
   ]
  },
  {
   "cell_type": "code",
   "execution_count": 156,
   "id": "2b4d3f40-ec9f-4696-84ec-5f9a7581ebf8",
   "metadata": {},
   "outputs": [
    {
     "name": "stdout",
     "output_type": "stream",
     "text": [
      "Original Array: ['Hello World' 'NUMPY is Awesome' 'pyTHON']\n",
      "Uppercase Chars (without findall): [list(['H', 'W']) list(['N', 'U', 'M', 'P', 'Y', 'A'])\n",
      " list(['T', 'H', 'O', 'N'])]\n"
     ]
    }
   ],
   "source": [
    "# Extract uppercase characters from a string array.\n",
    "import numpy as np\n",
    "\n",
    "arr = np.array(['Hello World', 'NUMPY is Awesome', 'pyTHON'])\n",
    "\n",
    "uppercase_chars_list = []\n",
    "\n",
    "for s in arr:\n",
    "    current_string_uppercase = []\n",
    "    for char in s:\n",
    "        # Check if the character is an uppercase letter\n",
    "        if 'A' <= char <= 'Z': \n",
    "            current_string_uppercase.append(char)\n",
    "    uppercase_chars_list.append(current_string_uppercase)\n",
    "uppercase_chars = np.array(uppercase_chars_list, dtype=object)\n",
    "\n",
    "\n",
    "print(f\"Original Array: {arr}\")\n",
    "print({uppercase_chars}\")"
   ]
  },
  {
   "cell_type": "code",
   "execution_count": 116,
   "id": "652d6980-f52d-4bd0-aa67-1e07017a81bb",
   "metadata": {},
   "outputs": [
    {
     "name": "stdout",
     "output_type": "stream",
     "text": [
      "['hell0' 'w0rld']\n"
     ]
    }
   ],
   "source": [
    "# Replace substring occurrences with another string in a string array.\n",
    "arr = np.array(['hello', 'world'])\n",
    "replaced = np.char.replace(arr, 'o', '0')\n",
    "print(replaced)"
   ]
  },
  {
   "cell_type": "code",
   "execution_count": 117,
   "id": "edae587a-4c2e-455c-90b3-c5e33e22c142",
   "metadata": {},
   "outputs": [
    {
     "name": "stdout",
     "output_type": "stream",
     "text": [
      "['ax' 'by']\n"
     ]
    }
   ],
   "source": [
    "# Concatenate strings in a NumPy array element-wise.\n",
    "arr1 = np.array(['a','b'])\n",
    "arr2 = np.array(['x','y'])\n",
    "concat = np.char.add(arr1, arr2)\n",
    "print(concat)"
   ]
  },
  {
   "cell_type": "code",
   "execution_count": 118,
   "id": "12204574-dd4d-407a-add1-cf3eb4379dd6",
   "metadata": {},
   "outputs": [
    {
     "name": "stdout",
     "output_type": "stream",
     "text": [
      "5\n"
     ]
    }
   ],
   "source": [
    "# Find the length of the longest string in a string array\n",
    "arr = np.array(['hi','hello'])\n",
    "lengths = np.char.str_len(arr)\n",
    "max_len = lengths.max()\n",
    "print(max_len)"
   ]
  },
  {
   "cell_type": "markdown",
   "id": "4ad2cedd-e739-4188-a921-0d93de6c060f",
   "metadata": {},
   "source": [
    "Descriptive Statistics"
   ]
  },
  {
   "cell_type": "code",
   "execution_count": 119,
   "id": "f441a933-5a01-4bb7-af13-e5ea34f5509b",
   "metadata": {},
   "outputs": [
    {
     "name": "stdout",
     "output_type": "stream",
     "text": [
      "465.26\n",
      "86112.9324\n",
      "467.5\n",
      "293.4500509456422\n"
     ]
    }
   ],
   "source": [
    "# Generate 100 random integers (1–1000) and compute mean, median, variance, and std deviation.\n",
    "arr = np.random.randint(1,1001,100)\n",
    "mean = arr.mean()\n",
    "median = np.median(arr)\n",
    "var = arr.var()\n",
    "std = arr.std()\n",
    "arr = np.random.randint(1,1001,100)\n",
    "mean = arr.mean()\n",
    "median = np.median(arr)\n",
    "var = arr.var()\n",
    "std = arr.std()\n",
    "print(mean)\n",
    "print(var)\n",
    "print(median)\n",
    "print(std)\n"
   ]
  },
  {
   "cell_type": "code",
   "execution_count": 120,
   "id": "43c4195b-36ad-4aea-81e6-bbc51ac0debd",
   "metadata": {},
   "outputs": [
    {
     "name": "stdout",
     "output_type": "stream",
     "text": [
      "21.5\n",
      "82.0\n"
     ]
    }
   ],
   "source": [
    "# Generate 50 random numbers (1–100) and compute the 25th and 75th percentiles.\n",
    "arr = np.random.randint(1,101,50)\n",
    "p25 = np.percentile(arr, 25)\n",
    "p75 = np.percentile(arr, 75)\n",
    "print(p25)\n",
    "print(p75)"
   ]
  },
  {
   "cell_type": "code",
   "execution_count": 121,
   "id": "4f7c04c5-912a-409a-9db6-3c6b63de3d56",
   "metadata": {},
   "outputs": [
    {
     "name": "stdout",
     "output_type": "stream",
     "text": [
      "[[ 1.         -0.21748602]\n",
      " [-0.21748602  1.        ]]\n"
     ]
    }
   ],
   "source": [
    "# Compute correlation coefficient between two arrays using np.corrcoef.\n",
    "arr1 = np.random.rand(10)\n",
    "arr2 = np.random.rand(10)\n",
    "corr = np.corrcoef(arr1, arr2)\n",
    "print(corr)"
   ]
  },
  {
   "cell_type": "code",
   "execution_count": 122,
   "id": "58b1851e-25af-437e-b0f0-fc5d383ad528",
   "metadata": {},
   "outputs": [
    {
     "name": "stdout",
     "output_type": "stream",
     "text": [
      "[[ 4  4]\n",
      " [10  8]]\n"
     ]
    }
   ],
   "source": [
    "# Perform matrix multiplication using np.dot.\n",
    "arr1 = np.array([[1,2],[3,4]])\n",
    "arr2 = np.array([[2,0],[1,2]])\n",
    "dot = np.dot(arr1, arr2)\n",
    "print(dot)"
   ]
  },
  {
   "cell_type": "code",
   "execution_count": 123,
   "id": "cbd01087-f02c-4a22-b147-5ae99838d138",
   "metadata": {},
   "outputs": [
    {
     "name": "stdout",
     "output_type": "stream",
     "text": [
      "20.700000000000003\n",
      "48.0\n",
      "88.0\n"
     ]
    }
   ],
   "source": [
    "# Compute the 10th, 50th, and 90th percentiles and quartiles for an array of 50 integers.\n",
    "arr = np.random.randint(1,100,50)\n",
    "p10 = np.percentile(arr, 10)\n",
    "p50 = np.percentile(arr, 50)\n",
    "p90 = np.percentile(arr, 90)\n",
    "print(p10)\n",
    "print(p50)\n",
    "print(p90)"
   ]
  },
  {
   "cell_type": "markdown",
   "id": "d2433a2a-e09f-4e01-9c0d-38f3aa7a42e0",
   "metadata": {},
   "source": [
    "Search and Sort"
   ]
  },
  {
   "cell_type": "code",
   "execution_count": 124,
   "id": "9782c2c2-b728-421d-9858-2ea2357e0e4e",
   "metadata": {},
   "outputs": [
    {
     "name": "stdout",
     "output_type": "stream",
     "text": [
      "1\n"
     ]
    }
   ],
   "source": [
    "# Find index of a specific element in an array.\n",
    "arr = np.array([10, 20, 30])\n",
    "index = np.where(arr == 20)[0][0]\n",
    "print(index)"
   ]
  },
  {
   "cell_type": "code",
   "execution_count": 125,
   "id": "b77eb698-254b-4d48-84a5-600f2a26fa7d",
   "metadata": {},
   "outputs": [
    {
     "name": "stdout",
     "output_type": "stream",
     "text": [
      "[0.44264357 0.63078304 0.86131299 0.88271226 0.90891051]\n"
     ]
    }
   ],
   "source": [
    "# Sort a random array in ascending order.\n",
    "arr = np.random.rand(5)\n",
    "sorted_arr = np.sort(arr)\n",
    "print(sorted_arr)"
   ]
  },
  {
   "cell_type": "code",
   "execution_count": 126,
   "id": "a44fff5e-c405-476b-b586-3136d64dbe69",
   "metadata": {},
   "outputs": [
    {
     "name": "stdout",
     "output_type": "stream",
     "text": [
      "[21 22 23 24 25 26 27 28 29 30 31 32 33 34 35 36 37 38 39 40 41 42 43 44\n",
      " 45 46 47 48 49]\n",
      "[ 0  3  6  9 12 15 18 21 24 27 30 33 36 39 42 45 48]\n",
      "[20 21 22 23 24 25 26 27 28 29 30 31 32 33 34 35 36 37 38 39 40]\n"
     ]
    }
   ],
   "source": [
    "# Filter elements greater than 20.\n",
    "# Filter elements divisible by 3.\n",
    "# Filter elements between 20 and 40 (inclusive).\n",
    "arr = np.arange(50)\n",
    "filtered1 = arr[arr > 20]\n",
    "filtered2 = arr[arr % 3 == 0]\n",
    "filtered3 = arr[(arr >= 20) & (arr <= 40)]\n",
    "print(filtered1)\n",
    "print(filtered2)\n",
    "print(filtered3)"
   ]
  },
  {
   "cell_type": "markdown",
   "id": "51011571-56bf-410b-b91b-44720031e5ef",
   "metadata": {},
   "source": [
    "Byte Order & Swapping"
   ]
  },
  {
   "cell_type": "code",
   "execution_count": 127,
   "id": "560c53c3-9096-4a6f-b73d-db624d1cf83c",
   "metadata": {},
   "outputs": [
    {
     "name": "stdout",
     "output_type": "stream",
     "text": [
      ">\n"
     ]
    }
   ],
   "source": [
    "# Check byte order of a NumPy array using dtype.byteorder\n",
    "arr = np.array([1,2,3], dtype='>i4')\n",
    "byte_order = arr.dtype.byteorder\n",
    "print(byte_order)"
   ]
  },
  {
   "cell_type": "code",
   "execution_count": 128,
   "id": "8f22625c-571d-4f03-800f-28eeb590940e",
   "metadata": {},
   "outputs": [
    {
     "name": "stdout",
     "output_type": "stream",
     "text": [
      "[16777216 33554432 50331648]\n"
     ]
    }
   ],
   "source": [
    "# Perform in-place byte swapping using byteswap().\n",
    "arr = np.array([1,2,3], dtype='>i4')\n",
    "result = arr.byteswap(inplace=True)\n",
    "print(result)"
   ]
  },
  {
   "cell_type": "code",
   "execution_count": null,
   "id": "64e6618d-0db9-443a-add0-c1b986a6ff22",
   "metadata": {},
   "outputs": [],
   "source": []
  }
 ],
 "metadata": {
  "kernelspec": {
   "display_name": "Python 3 (ipykernel)",
   "language": "python",
   "name": "python3"
  },
  "language_info": {
   "codemirror_mode": {
    "name": "ipython",
    "version": 3
   },
   "file_extension": ".py",
   "mimetype": "text/x-python",
   "name": "python",
   "nbconvert_exporter": "python",
   "pygments_lexer": "ipython3",
   "version": "3.11.7"
  }
 },
 "nbformat": 4,
 "nbformat_minor": 5
}
